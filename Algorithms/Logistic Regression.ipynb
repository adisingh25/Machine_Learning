{
 "cells": [
  {
   "cell_type": "code",
   "execution_count": 15,
   "id": "04b912be",
   "metadata": {},
   "outputs": [],
   "source": [
    "import numpy as np\n",
    "import pandas as pd\n",
    "from sklearn.model_selection import train_test_split\n",
    "from sklearn import svm\n",
    "from sklearn import metrics\n",
    "import matplotlib.pyplot as plt\n",
    "import seaborn as sns\n",
    "import itertools\n",
    "from sklearn.linear_model import LogisticRegression\n",
    "from sklearn import datasets\n",
    "from sklearn.feature_selection import RFE"
   ]
  },
  {
   "cell_type": "code",
   "execution_count": 6,
   "id": "95183382",
   "metadata": {},
   "outputs": [
    {
     "data": {
      "text/html": [
       "<div>\n",
       "<style scoped>\n",
       "    .dataframe tbody tr th:only-of-type {\n",
       "        vertical-align: middle;\n",
       "    }\n",
       "\n",
       "    .dataframe tbody tr th {\n",
       "        vertical-align: top;\n",
       "    }\n",
       "\n",
       "    .dataframe thead th {\n",
       "        text-align: right;\n",
       "    }\n",
       "</style>\n",
       "<table border=\"1\" class=\"dataframe\">\n",
       "  <thead>\n",
       "    <tr style=\"text-align: right;\">\n",
       "      <th></th>\n",
       "      <th>User ID</th>\n",
       "      <th>Gender</th>\n",
       "      <th>Age</th>\n",
       "      <th>EstimatedSalary</th>\n",
       "      <th>Purchased</th>\n",
       "    </tr>\n",
       "  </thead>\n",
       "  <tbody>\n",
       "    <tr>\n",
       "      <th>0</th>\n",
       "      <td>15624510</td>\n",
       "      <td>Male</td>\n",
       "      <td>19</td>\n",
       "      <td>19000</td>\n",
       "      <td>0</td>\n",
       "    </tr>\n",
       "    <tr>\n",
       "      <th>1</th>\n",
       "      <td>15810944</td>\n",
       "      <td>Male</td>\n",
       "      <td>35</td>\n",
       "      <td>20000</td>\n",
       "      <td>0</td>\n",
       "    </tr>\n",
       "    <tr>\n",
       "      <th>2</th>\n",
       "      <td>15668575</td>\n",
       "      <td>Female</td>\n",
       "      <td>26</td>\n",
       "      <td>43000</td>\n",
       "      <td>0</td>\n",
       "    </tr>\n",
       "    <tr>\n",
       "      <th>3</th>\n",
       "      <td>15603246</td>\n",
       "      <td>Female</td>\n",
       "      <td>27</td>\n",
       "      <td>57000</td>\n",
       "      <td>0</td>\n",
       "    </tr>\n",
       "    <tr>\n",
       "      <th>4</th>\n",
       "      <td>15804002</td>\n",
       "      <td>Male</td>\n",
       "      <td>19</td>\n",
       "      <td>76000</td>\n",
       "      <td>0</td>\n",
       "    </tr>\n",
       "  </tbody>\n",
       "</table>\n",
       "</div>"
      ],
      "text/plain": [
       "    User ID  Gender  Age  EstimatedSalary  Purchased\n",
       "0  15624510    Male   19            19000          0\n",
       "1  15810944    Male   35            20000          0\n",
       "2  15668575  Female   26            43000          0\n",
       "3  15603246  Female   27            57000          0\n",
       "4  15804002    Male   19            76000          0"
      ]
     },
     "execution_count": 6,
     "metadata": {},
     "output_type": "execute_result"
    }
   ],
   "source": [
    "data = pd.read_csv('social_network.csv')\n",
    "data.head()"
   ]
  },
  {
   "cell_type": "code",
   "execution_count": 7,
   "id": "d019db66",
   "metadata": {},
   "outputs": [
    {
     "data": {
      "text/plain": [
       "User ID            False\n",
       "Gender             False\n",
       "Age                False\n",
       "EstimatedSalary    False\n",
       "Purchased          False\n",
       "dtype: bool"
      ]
     },
     "execution_count": 7,
     "metadata": {},
     "output_type": "execute_result"
    }
   ],
   "source": [
    "data.isnull().any()"
   ]
  },
  {
   "cell_type": "code",
   "execution_count": 8,
   "id": "a6e75d37",
   "metadata": {},
   "outputs": [
    {
     "data": {
      "text/plain": [
       "array([[19],\n",
       "       [35],\n",
       "       [26],\n",
       "       [27],\n",
       "       [19],\n",
       "       [27],\n",
       "       [27],\n",
       "       [32],\n",
       "       [25],\n",
       "       [35],\n",
       "       [26],\n",
       "       [26],\n",
       "       [20],\n",
       "       [32],\n",
       "       [18],\n",
       "       [29],\n",
       "       [47],\n",
       "       [45],\n",
       "       [46],\n",
       "       [48],\n",
       "       [45],\n",
       "       [47],\n",
       "       [48],\n",
       "       [45],\n",
       "       [46],\n",
       "       [47],\n",
       "       [49],\n",
       "       [47],\n",
       "       [29],\n",
       "       [31],\n",
       "       [31],\n",
       "       [27],\n",
       "       [21],\n",
       "       [28],\n",
       "       [27],\n",
       "       [35],\n",
       "       [33],\n",
       "       [30],\n",
       "       [26],\n",
       "       [27],\n",
       "       [27],\n",
       "       [33],\n",
       "       [35],\n",
       "       [30],\n",
       "       [28],\n",
       "       [23],\n",
       "       [25],\n",
       "       [27],\n",
       "       [30],\n",
       "       [31],\n",
       "       [24],\n",
       "       [18],\n",
       "       [29],\n",
       "       [35],\n",
       "       [27],\n",
       "       [24],\n",
       "       [23],\n",
       "       [28],\n",
       "       [22],\n",
       "       [32],\n",
       "       [27],\n",
       "       [25],\n",
       "       [23],\n",
       "       [32],\n",
       "       [59],\n",
       "       [24],\n",
       "       [24],\n",
       "       [23],\n",
       "       [22],\n",
       "       [31],\n",
       "       [25],\n",
       "       [24],\n",
       "       [20],\n",
       "       [33],\n",
       "       [32],\n",
       "       [34],\n",
       "       [18],\n",
       "       [22],\n",
       "       [28],\n",
       "       [26],\n",
       "       [30],\n",
       "       [39],\n",
       "       [20],\n",
       "       [35],\n",
       "       [30],\n",
       "       [31],\n",
       "       [24],\n",
       "       [28],\n",
       "       [26],\n",
       "       [35],\n",
       "       [22],\n",
       "       [30],\n",
       "       [26],\n",
       "       [29],\n",
       "       [29],\n",
       "       [35],\n",
       "       [35],\n",
       "       [28],\n",
       "       [35],\n",
       "       [28],\n",
       "       [27],\n",
       "       [28],\n",
       "       [32],\n",
       "       [33],\n",
       "       [19],\n",
       "       [21],\n",
       "       [26],\n",
       "       [27],\n",
       "       [26],\n",
       "       [38],\n",
       "       [39],\n",
       "       [37],\n",
       "       [38],\n",
       "       [37],\n",
       "       [42],\n",
       "       [40],\n",
       "       [35],\n",
       "       [36],\n",
       "       [40],\n",
       "       [41],\n",
       "       [36],\n",
       "       [37],\n",
       "       [40],\n",
       "       [35],\n",
       "       [41],\n",
       "       [39],\n",
       "       [42],\n",
       "       [26],\n",
       "       [30],\n",
       "       [26],\n",
       "       [31],\n",
       "       [33],\n",
       "       [30],\n",
       "       [21],\n",
       "       [28],\n",
       "       [23],\n",
       "       [20],\n",
       "       [30],\n",
       "       [28],\n",
       "       [19],\n",
       "       [19],\n",
       "       [18],\n",
       "       [35],\n",
       "       [30],\n",
       "       [34],\n",
       "       [24],\n",
       "       [27],\n",
       "       [41],\n",
       "       [29],\n",
       "       [20],\n",
       "       [26],\n",
       "       [41],\n",
       "       [31],\n",
       "       [36],\n",
       "       [40],\n",
       "       [31],\n",
       "       [46],\n",
       "       [29],\n",
       "       [26],\n",
       "       [32],\n",
       "       [32],\n",
       "       [25],\n",
       "       [37],\n",
       "       [35],\n",
       "       [33],\n",
       "       [18],\n",
       "       [22],\n",
       "       [35],\n",
       "       [29],\n",
       "       [29],\n",
       "       [21],\n",
       "       [34],\n",
       "       [26],\n",
       "       [34],\n",
       "       [34],\n",
       "       [23],\n",
       "       [35],\n",
       "       [25],\n",
       "       [24],\n",
       "       [31],\n",
       "       [26],\n",
       "       [31],\n",
       "       [32],\n",
       "       [33],\n",
       "       [33],\n",
       "       [31],\n",
       "       [20],\n",
       "       [33],\n",
       "       [35],\n",
       "       [28],\n",
       "       [24],\n",
       "       [19],\n",
       "       [29],\n",
       "       [19],\n",
       "       [28],\n",
       "       [34],\n",
       "       [30],\n",
       "       [20],\n",
       "       [26],\n",
       "       [35],\n",
       "       [35],\n",
       "       [49],\n",
       "       [39],\n",
       "       [41],\n",
       "       [58],\n",
       "       [47],\n",
       "       [55],\n",
       "       [52],\n",
       "       [40],\n",
       "       [46],\n",
       "       [48],\n",
       "       [52],\n",
       "       [59],\n",
       "       [35],\n",
       "       [47],\n",
       "       [60],\n",
       "       [49],\n",
       "       [40],\n",
       "       [46],\n",
       "       [59],\n",
       "       [41],\n",
       "       [35],\n",
       "       [37],\n",
       "       [60],\n",
       "       [35],\n",
       "       [37],\n",
       "       [36],\n",
       "       [56],\n",
       "       [40],\n",
       "       [42],\n",
       "       [35],\n",
       "       [39],\n",
       "       [40],\n",
       "       [49],\n",
       "       [38],\n",
       "       [46],\n",
       "       [40],\n",
       "       [37],\n",
       "       [46],\n",
       "       [53],\n",
       "       [42],\n",
       "       [38],\n",
       "       [50],\n",
       "       [56],\n",
       "       [41],\n",
       "       [51],\n",
       "       [35],\n",
       "       [57],\n",
       "       [41],\n",
       "       [35],\n",
       "       [44],\n",
       "       [37],\n",
       "       [48],\n",
       "       [37],\n",
       "       [50],\n",
       "       [52],\n",
       "       [41],\n",
       "       [40],\n",
       "       [58],\n",
       "       [45],\n",
       "       [35],\n",
       "       [36],\n",
       "       [55],\n",
       "       [35],\n",
       "       [48],\n",
       "       [42],\n",
       "       [40],\n",
       "       [37],\n",
       "       [47],\n",
       "       [40],\n",
       "       [43],\n",
       "       [59],\n",
       "       [60],\n",
       "       [39],\n",
       "       [57],\n",
       "       [57],\n",
       "       [38],\n",
       "       [49],\n",
       "       [52],\n",
       "       [50],\n",
       "       [59],\n",
       "       [35],\n",
       "       [37],\n",
       "       [52],\n",
       "       [48],\n",
       "       [37],\n",
       "       [37],\n",
       "       [48],\n",
       "       [41],\n",
       "       [37],\n",
       "       [39],\n",
       "       [49],\n",
       "       [55],\n",
       "       [37],\n",
       "       [35],\n",
       "       [36],\n",
       "       [42],\n",
       "       [43],\n",
       "       [45],\n",
       "       [46],\n",
       "       [58],\n",
       "       [48],\n",
       "       [37],\n",
       "       [37],\n",
       "       [40],\n",
       "       [42],\n",
       "       [51],\n",
       "       [47],\n",
       "       [36],\n",
       "       [38],\n",
       "       [42],\n",
       "       [39],\n",
       "       [38],\n",
       "       [49],\n",
       "       [39],\n",
       "       [39],\n",
       "       [54],\n",
       "       [35],\n",
       "       [45],\n",
       "       [36],\n",
       "       [52],\n",
       "       [53],\n",
       "       [41],\n",
       "       [48],\n",
       "       [48],\n",
       "       [41],\n",
       "       [41],\n",
       "       [42],\n",
       "       [36],\n",
       "       [47],\n",
       "       [38],\n",
       "       [48],\n",
       "       [42],\n",
       "       [40],\n",
       "       [57],\n",
       "       [36],\n",
       "       [58],\n",
       "       [35],\n",
       "       [38],\n",
       "       [39],\n",
       "       [53],\n",
       "       [35],\n",
       "       [38],\n",
       "       [47],\n",
       "       [47],\n",
       "       [41],\n",
       "       [53],\n",
       "       [54],\n",
       "       [39],\n",
       "       [38],\n",
       "       [38],\n",
       "       [37],\n",
       "       [42],\n",
       "       [37],\n",
       "       [36],\n",
       "       [60],\n",
       "       [54],\n",
       "       [41],\n",
       "       [40],\n",
       "       [42],\n",
       "       [43],\n",
       "       [53],\n",
       "       [47],\n",
       "       [42],\n",
       "       [42],\n",
       "       [59],\n",
       "       [58],\n",
       "       [46],\n",
       "       [38],\n",
       "       [54],\n",
       "       [60],\n",
       "       [60],\n",
       "       [39],\n",
       "       [59],\n",
       "       [37],\n",
       "       [46],\n",
       "       [46],\n",
       "       [42],\n",
       "       [41],\n",
       "       [58],\n",
       "       [42],\n",
       "       [48],\n",
       "       [44],\n",
       "       [49],\n",
       "       [57],\n",
       "       [56],\n",
       "       [49],\n",
       "       [39],\n",
       "       [47],\n",
       "       [48],\n",
       "       [48],\n",
       "       [47],\n",
       "       [45],\n",
       "       [60],\n",
       "       [39],\n",
       "       [46],\n",
       "       [51],\n",
       "       [50],\n",
       "       [36],\n",
       "       [49]])"
      ]
     },
     "execution_count": 8,
     "metadata": {},
     "output_type": "execute_result"
    }
   ],
   "source": [
    "X = data.iloc[:, [2]].values\n",
    "X"
   ]
  },
  {
   "cell_type": "code",
   "execution_count": 10,
   "id": "92593473",
   "metadata": {},
   "outputs": [
    {
     "data": {
      "text/plain": [
       "array([0, 0, 0, 0, 0, 0, 0, 1, 0, 0, 0, 0, 0, 0, 0, 0, 1, 1, 1, 1, 1, 1,\n",
       "       1, 1, 1, 1, 1, 1, 0, 0, 0, 1, 0, 0, 0, 0, 0, 0, 0, 0, 0, 0, 0, 0,\n",
       "       0, 0, 0, 0, 1, 0, 0, 0, 0, 0, 0, 0, 0, 0, 0, 0, 0, 0, 0, 1, 0, 0,\n",
       "       0, 0, 0, 0, 0, 0, 0, 0, 0, 1, 0, 0, 0, 0, 0, 0, 0, 0, 0, 1, 0, 0,\n",
       "       0, 0, 0, 0, 0, 0, 0, 0, 0, 1, 0, 0, 0, 0, 0, 1, 0, 0, 0, 0, 0, 0,\n",
       "       0, 0, 0, 0, 0, 0, 0, 0, 0, 0, 0, 0, 0, 0, 0, 0, 0, 0, 0, 0, 0, 0,\n",
       "       0, 0, 0, 0, 0, 1, 0, 0, 0, 0, 0, 0, 0, 0, 1, 0, 0, 0, 0, 0, 0, 0,\n",
       "       0, 0, 0, 0, 0, 1, 1, 0, 0, 0, 0, 0, 0, 0, 1, 0, 0, 0, 0, 0, 0, 0,\n",
       "       0, 0, 0, 0, 0, 0, 1, 0, 0, 0, 0, 0, 0, 0, 0, 0, 0, 0, 0, 0, 0, 0,\n",
       "       0, 0, 0, 0, 1, 0, 1, 0, 1, 0, 1, 0, 1, 1, 0, 0, 0, 1, 0, 0, 0, 1,\n",
       "       0, 1, 1, 1, 0, 0, 1, 1, 0, 1, 1, 0, 1, 1, 0, 1, 0, 0, 0, 1, 1, 0,\n",
       "       1, 1, 0, 1, 0, 1, 0, 1, 0, 0, 1, 1, 0, 1, 0, 0, 1, 1, 0, 1, 1, 0,\n",
       "       1, 1, 0, 0, 1, 0, 0, 1, 1, 1, 1, 1, 0, 1, 1, 1, 1, 0, 1, 1, 0, 1,\n",
       "       0, 1, 0, 1, 1, 1, 1, 0, 0, 0, 1, 1, 0, 1, 1, 1, 1, 1, 0, 0, 0, 1,\n",
       "       1, 0, 0, 1, 0, 1, 0, 1, 1, 0, 1, 0, 1, 1, 0, 1, 1, 0, 0, 0, 1, 1,\n",
       "       0, 1, 0, 0, 1, 0, 1, 0, 0, 1, 1, 0, 0, 1, 1, 0, 1, 1, 0, 0, 1, 0,\n",
       "       1, 0, 1, 1, 1, 0, 1, 0, 1, 1, 1, 0, 1, 1, 1, 1, 0, 1, 1, 1, 0, 1,\n",
       "       0, 1, 0, 0, 1, 1, 0, 1, 1, 1, 1, 1, 1, 0, 1, 1, 1, 1, 1, 1, 0, 1,\n",
       "       1, 1, 0, 1])"
      ]
     },
     "execution_count": 10,
     "metadata": {},
     "output_type": "execute_result"
    }
   ],
   "source": [
    "y = data.iloc[:, -1].values\n",
    "y"
   ]
  },
  {
   "cell_type": "code",
   "execution_count": 11,
   "id": "8a794287",
   "metadata": {},
   "outputs": [],
   "source": [
    "X_train, X_test, y_train, y_test = train_test_split(X, y, test_size = 0.20, random_state = 0)"
   ]
  },
  {
   "cell_type": "code",
   "execution_count": 18,
   "id": "27bfd4a9",
   "metadata": {},
   "outputs": [
    {
     "data": {
      "text/html": [
       "<style>#sk-container-id-1 {color: black;background-color: white;}#sk-container-id-1 pre{padding: 0;}#sk-container-id-1 div.sk-toggleable {background-color: white;}#sk-container-id-1 label.sk-toggleable__label {cursor: pointer;display: block;width: 100%;margin-bottom: 0;padding: 0.3em;box-sizing: border-box;text-align: center;}#sk-container-id-1 label.sk-toggleable__label-arrow:before {content: \"▸\";float: left;margin-right: 0.25em;color: #696969;}#sk-container-id-1 label.sk-toggleable__label-arrow:hover:before {color: black;}#sk-container-id-1 div.sk-estimator:hover label.sk-toggleable__label-arrow:before {color: black;}#sk-container-id-1 div.sk-toggleable__content {max-height: 0;max-width: 0;overflow: hidden;text-align: left;background-color: #f0f8ff;}#sk-container-id-1 div.sk-toggleable__content pre {margin: 0.2em;color: black;border-radius: 0.25em;background-color: #f0f8ff;}#sk-container-id-1 input.sk-toggleable__control:checked~div.sk-toggleable__content {max-height: 200px;max-width: 100%;overflow: auto;}#sk-container-id-1 input.sk-toggleable__control:checked~label.sk-toggleable__label-arrow:before {content: \"▾\";}#sk-container-id-1 div.sk-estimator input.sk-toggleable__control:checked~label.sk-toggleable__label {background-color: #d4ebff;}#sk-container-id-1 div.sk-label input.sk-toggleable__control:checked~label.sk-toggleable__label {background-color: #d4ebff;}#sk-container-id-1 input.sk-hidden--visually {border: 0;clip: rect(1px 1px 1px 1px);clip: rect(1px, 1px, 1px, 1px);height: 1px;margin: -1px;overflow: hidden;padding: 0;position: absolute;width: 1px;}#sk-container-id-1 div.sk-estimator {font-family: monospace;background-color: #f0f8ff;border: 1px dotted black;border-radius: 0.25em;box-sizing: border-box;margin-bottom: 0.5em;}#sk-container-id-1 div.sk-estimator:hover {background-color: #d4ebff;}#sk-container-id-1 div.sk-parallel-item::after {content: \"\";width: 100%;border-bottom: 1px solid gray;flex-grow: 1;}#sk-container-id-1 div.sk-label:hover label.sk-toggleable__label {background-color: #d4ebff;}#sk-container-id-1 div.sk-serial::before {content: \"\";position: absolute;border-left: 1px solid gray;box-sizing: border-box;top: 0;bottom: 0;left: 50%;z-index: 0;}#sk-container-id-1 div.sk-serial {display: flex;flex-direction: column;align-items: center;background-color: white;padding-right: 0.2em;padding-left: 0.2em;position: relative;}#sk-container-id-1 div.sk-item {position: relative;z-index: 1;}#sk-container-id-1 div.sk-parallel {display: flex;align-items: stretch;justify-content: center;background-color: white;position: relative;}#sk-container-id-1 div.sk-item::before, #sk-container-id-1 div.sk-parallel-item::before {content: \"\";position: absolute;border-left: 1px solid gray;box-sizing: border-box;top: 0;bottom: 0;left: 50%;z-index: -1;}#sk-container-id-1 div.sk-parallel-item {display: flex;flex-direction: column;z-index: 1;position: relative;background-color: white;}#sk-container-id-1 div.sk-parallel-item:first-child::after {align-self: flex-end;width: 50%;}#sk-container-id-1 div.sk-parallel-item:last-child::after {align-self: flex-start;width: 50%;}#sk-container-id-1 div.sk-parallel-item:only-child::after {width: 0;}#sk-container-id-1 div.sk-dashed-wrapped {border: 1px dashed gray;margin: 0 0.4em 0.5em 0.4em;box-sizing: border-box;padding-bottom: 0.4em;background-color: white;}#sk-container-id-1 div.sk-label label {font-family: monospace;font-weight: bold;display: inline-block;line-height: 1.2em;}#sk-container-id-1 div.sk-label-container {text-align: center;}#sk-container-id-1 div.sk-container {/* jupyter's `normalize.less` sets `[hidden] { display: none; }` but bootstrap.min.css set `[hidden] { display: none !important; }` so we also need the `!important` here to be able to override the default hidden behavior on the sphinx rendered scikit-learn.org. See: https://github.com/scikit-learn/scikit-learn/issues/21755 */display: inline-block !important;position: relative;}#sk-container-id-1 div.sk-text-repr-fallback {display: none;}</style><div id=\"sk-container-id-1\" class=\"sk-top-container\"><div class=\"sk-text-repr-fallback\"><pre>LogisticRegression()</pre><b>In a Jupyter environment, please rerun this cell to show the HTML representation or trust the notebook. <br />On GitHub, the HTML representation is unable to render, please try loading this page with nbviewer.org.</b></div><div class=\"sk-container\" hidden><div class=\"sk-item\"><div class=\"sk-estimator sk-toggleable\"><input class=\"sk-toggleable__control sk-hidden--visually\" id=\"sk-estimator-id-1\" type=\"checkbox\" checked><label for=\"sk-estimator-id-1\" class=\"sk-toggleable__label sk-toggleable__label-arrow\">LogisticRegression</label><div class=\"sk-toggleable__content\"><pre>LogisticRegression()</pre></div></div></div></div></div>"
      ],
      "text/plain": [
       "LogisticRegression()"
      ]
     },
     "execution_count": 18,
     "metadata": {},
     "output_type": "execute_result"
    }
   ],
   "source": [
    "logreg = LogisticRegression()\n",
    "logreg.fit(X_train, y_train)"
   ]
  },
  {
   "cell_type": "code",
   "execution_count": 21,
   "id": "1ef35c70",
   "metadata": {},
   "outputs": [
    {
     "name": "stdout",
     "output_type": "stream",
     "text": [
      "Predicted Value\n",
      "[0 0 0 0 0 0 0 0 0 1]\n",
      "Actual Value\n",
      "[0 0 0 0 0 0 0 1 0 0]\n"
     ]
    }
   ],
   "source": [
    "print('Predicted Value')\n",
    "y_pred = logreg.predict(X_test)\n",
    "print(y_pred[:10])\n",
    "print('Actual Value')\n",
    "print(y_test[:10])"
   ]
  },
  {
   "cell_type": "code",
   "execution_count": 20,
   "id": "9b3550c5",
   "metadata": {},
   "outputs": [
    {
     "name": "stdout",
     "output_type": "stream",
     "text": [
      "Accuracy of logistic regression classifier on test set: 0.94\n"
     ]
    }
   ],
   "source": [
    "print('Accuracy of logistic regression classifier on test set: {:.2f}'.format(logreg.score(X_test, y_test)))"
   ]
  },
  {
   "cell_type": "code",
   "execution_count": 22,
   "id": "8045fed2",
   "metadata": {},
   "outputs": [
    {
     "name": "stdout",
     "output_type": "stream",
     "text": [
      "[[57  1]\n",
      " [ 4 18]]\n"
     ]
    }
   ],
   "source": [
    "from sklearn.metrics import confusion_matrix\n",
    "confusion_matrix = confusion_matrix(y_test, y_pred)\n",
    "print(confusion_matrix)"
   ]
  },
  {
   "cell_type": "code",
   "execution_count": 23,
   "id": "88ff0322",
   "metadata": {},
   "outputs": [
    {
     "name": "stdout",
     "output_type": "stream",
     "text": [
      "True Negatives 57\n",
      "True Positives 18\n",
      "False Positives 1\n",
      "False Negatives 4\n"
     ]
    }
   ],
   "source": [
    "TN, FP, FN, TP = metrics.confusion_matrix(list(y_test), list(y_pred), labels=[0, 1]).ravel() #0,1 is default label of sklearn \n",
    "print(\"True Negatives\", TN)\n",
    "print(\"True Positives\", TP)\n",
    "print(\"False Positives\", FP)\n",
    "print(\"False Negatives\", FN)\n"
   ]
  },
  {
   "cell_type": "code",
   "execution_count": 24,
   "id": "e03319aa",
   "metadata": {},
   "outputs": [],
   "source": [
    "results={} #To Store all the metrics Result Values"
   ]
  },
  {
   "cell_type": "code",
   "execution_count": 25,
   "id": "c976d3ed",
   "metadata": {},
   "outputs": [
    {
     "name": "stdout",
     "output_type": "stream",
     "text": [
      "ACC is  0.938\n"
     ]
    }
   ],
   "source": [
    "#Finding Accuracy \n",
    "metric = \"ACC\"\n",
    "results[metric] = (TP + TN) / (TP + TN + FP + FN)\n",
    "print(f\"{metric} is {results[metric]: .3f}\") #Note the Formatting with f\"{metric} and rounding to 3 decimal points with .3f"
   ]
  },
  {
   "cell_type": "code",
   "execution_count": 26,
   "id": "924494ce",
   "metadata": {},
   "outputs": [
    {
     "name": "stdout",
     "output_type": "stream",
     "text": [
      "TNR is  0.983\n"
     ]
    }
   ],
   "source": [
    "#Finding True Negative Rate\n",
    "metric = \"TNR\"\n",
    "results[metric] = TN / (TN + FP)\n",
    "print(f\"{metric} is {results[metric]: .3f}\")"
   ]
  },
  {
   "cell_type": "code",
   "execution_count": 27,
   "id": "e9285b37",
   "metadata": {},
   "outputs": [
    {
     "name": "stdout",
     "output_type": "stream",
     "text": [
      "PPV is  0.947\n"
     ]
    }
   ],
   "source": [
    "#Finding Precision Predictive Value\n",
    "metric = \"PPV\"\n",
    "results[metric] = TP / (TP + FP)\n",
    "print(f\"{metric} is {results[metric]: .3f}\")"
   ]
  },
  {
   "cell_type": "code",
   "execution_count": 28,
   "id": "c0a0a7e3",
   "metadata": {},
   "outputs": [
    {
     "name": "stdout",
     "output_type": "stream",
     "text": [
      "NPV is  0.934\n"
     ]
    }
   ],
   "source": [
    "#Finding Negative Predictive Value\n",
    "metric = \"NPV\"\n",
    "results[metric] = TN / (TN + FN)\n",
    "print(f\"{metric} is {results[metric]: .3f}\")"
   ]
  },
  {
   "cell_type": "code",
   "execution_count": 29,
   "id": "9771560c",
   "metadata": {},
   "outputs": [
    {
     "name": "stdout",
     "output_type": "stream",
     "text": [
      "TPR is  0.818\n"
     ]
    }
   ],
   "source": [
    "#Finding True Postive Rate\n",
    "metric = \"TPR\"\n",
    "results[metric] = TP / (TP + FN)\n",
    "print(f\"{metric} is {results[metric]: .3f}\")\n"
   ]
  },
  {
   "cell_type": "code",
   "execution_count": 30,
   "id": "210f30d6",
   "metadata": {},
   "outputs": [
    {
     "name": "stdout",
     "output_type": "stream",
     "text": [
      "F1 is  0.878\n"
     ]
    }
   ],
   "source": [
    "#Finding F1-Score\n",
    "metric = \"F1\"\n",
    "results[metric] = 2 / (1 / results[\"PPV\"] + 1 / results[\"TPR\"])\n",
    "print(f\"{metric} is {results[metric]: .3f}\")"
   ]
  },
  {
   "cell_type": "code",
   "execution_count": 31,
   "id": "b5033e91",
   "metadata": {},
   "outputs": [
    {
     "name": "stdout",
     "output_type": "stream",
     "text": [
      "MCC is  0.840\n"
     ]
    }
   ],
   "source": [
    "#Finding MCC Value\n",
    "metric = \"MCC\"\n",
    "num = TP * TN - FP * FN\n",
    "den = ((TP + FP) * (TP + FN) * (TN + FP) * (TN + FN)) ** 0.5\n",
    "results[metric] = num / den\n",
    "print(f\"{metric} is {results[metric]: .3f}\")"
   ]
  },
  {
   "cell_type": "code",
   "execution_count": 44,
   "id": "05b85c54",
   "metadata": {},
   "outputs": [
    {
     "data": {
      "image/png": "[encoded data removed]",
      "text/plain": [
       "<Figure size 640x480 with 1 Axes>"
      ]
     },
     "metadata": {},
     "output_type": "display_data"
    }
   ],
   "source": [
    "plt.scatter(X_test,y_test, color = 'b')\n",
    "plt.plot(X_test,logreg.predict(X_test),color = 'r')\n",
    "plt.xlabel(\"Age\")\n",
    "plt.ylabel(\"Purchased\")\n",
    "plt.show()"
   ]
  },
  {
   "cell_type": "code",
   "execution_count": 47,
   "id": "0b17f34c",
   "metadata": {},
   "outputs": [
    {
     "name": "stdout",
     "output_type": "stream",
     "text": [
      "Probability of not purchased & probability of purchased.  [[0.89588762 0.10411238]\n",
      " [0.68568636 0.31431364]\n",
      " [0.78493273 0.21506727]\n",
      " [0.89588762 0.10411238]\n",
      " [0.78493273 0.21506727]]\n",
      "2D to 1D reshaped Probability of Purchased.  [0.10411238 0.31431364 0.21506727 0.10411238 0.21506727]\n"
     ]
    }
   ],
   "source": [
    "y_proba = logreg.predict_proba(X_test)\n",
    "print(\"Probability of not purchased & probability of purchased. \", y_proba[:5])\n",
    "y_proba = y_proba[:,1].reshape((y_proba.shape[0],))\n",
    "print(\"2D to 1D reshaped Probability of Purchased. \", y_proba[:5])"
   ]
  },
  {
   "cell_type": "code",
   "execution_count": null,
   "id": "82299527",
   "metadata": {},
   "outputs": [],
   "source": []
  }
 ],
 "metadata": {
  "kernelspec": {
   "display_name": "Python 3 (ipykernel)",
   "language": "python",
   "name": "python3"
  },
  "language_info": {
   "codemirror_mode": {
    "name": "ipython",
    "version": 3
   },
   "file_extension": ".py",
   "mimetype": "text/x-python",
   "name": "python",
   "nbconvert_exporter": "python",
   "pygments_lexer": "ipython3",
   "version": "3.10.4"
  }
 },
 "nbformat": 4,
 "nbformat_minor": 5
}
